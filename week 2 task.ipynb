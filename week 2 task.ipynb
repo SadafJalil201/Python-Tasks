{
 "cells": [
  {
   "cell_type": "code",
   "execution_count": 1,
   "metadata": {},
   "outputs": [],
   "source": [
    "#Q1) Write a Python program to sum all the items in a list"
   ]
  },
  {
   "cell_type": "code",
   "execution_count": 2,
   "metadata": {},
   "outputs": [
    {
     "data": {
      "text/plain": [
       "55"
      ]
     },
     "execution_count": 2,
     "metadata": {},
     "output_type": "execute_result"
    }
   ],
   "source": [
    "num = [1, 2, 3, 4, 5, 6, 7, 8, 9, 10]\n",
    "sum(num)"
   ]
  },
  {
   "cell_type": "code",
   "execution_count": 3,
   "metadata": {},
   "outputs": [],
   "source": [
    "#Q2) Write a Python program to multiplies all the items in a list"
   ]
  },
  {
   "cell_type": "code",
   "execution_count": 4,
   "metadata": {},
   "outputs": [
    {
     "data": {
      "text/plain": [
       "384"
      ]
     },
     "execution_count": 4,
     "metadata": {},
     "output_type": "execute_result"
    }
   ],
   "source": [
    "import numpy as np\n",
    "num1 = [2, 4, 6, 8]\n",
    "np.prod(num1)"
   ]
  },
  {
   "cell_type": "code",
   "execution_count": 5,
   "metadata": {},
   "outputs": [
    {
     "name": "stdout",
     "output_type": "stream",
     "text": [
      "['Sadaf', 'Arsh', 'Maryam', 'Hermain']\n",
      "['Sadaf', 'Arsh', 'Maryam', 'Hermain']\n"
     ]
    }
   ],
   "source": [
    "#Q3) Write a Python program to copy a list.\n",
    "names = [\"Sadaf\", \"Arsh\", \"Maryam\", \"Hermain\"]\n",
    "copy_OF_names = names.copy()\n",
    "print(names)\n",
    "print(copy_OF_names)\n"
   ]
  },
  {
   "cell_type": "code",
   "execution_count": 6,
   "metadata": {},
   "outputs": [],
   "source": [
    "#Q4) Write a Python program to remove 1st 3rd and 5th element from a list and \n",
    "#return the list\n"
   ]
  },
  {
   "cell_type": "code",
   "execution_count": 7,
   "metadata": {},
   "outputs": [
    {
     "name": "stdout",
     "output_type": "stream",
     "text": [
      "['Watermelon', 'Cherry', 'Lychee']\n"
     ]
    }
   ],
   "source": [
    "fruits = [\"Watermelon\", \"Mango\", \"Cherry\", \"Pineapple\", \"Lychee\", \"Apricot\"]\n",
    "del(fruits[1:6:2])\n",
    "print(fruits)"
   ]
  },
  {
   "cell_type": "code",
   "execution_count": 8,
   "metadata": {},
   "outputs": [],
   "source": [
    "#Q5) Write a python program to take index from user and remove that element from list\n",
    "\n"
   ]
  },
  {
   "cell_type": "code",
   "execution_count": 9,
   "metadata": {},
   "outputs": [
    {
     "name": "stdout",
     "output_type": "stream",
     "text": [
      "Write index to remove items from list:  3\n",
      "removed_student_name:  Hermain\n",
      "['Sadaf', 'Arsh', 'Maryam', 'Arqam', 'Shadad', 'Hasan', 'Faisal']\n"
     ]
    }
   ],
   "source": [
    "students = [\"Sadaf\", \"Arsh\", \"Maryam\", \"Hermain\", \"Arqam\", \"Shadad\", \"Hasan\", \"Faisal\"]\n",
    "user_inp = int(input(\"Write index to remove items from list:  \"))\n",
    "removed_student = students.pop(user_inp)\n",
    "print(\"removed_student_name: \", removed_student)\n",
    "print(students)"
   ]
  },
  {
   "cell_type": "code",
   "execution_count": 10,
   "metadata": {},
   "outputs": [],
   "source": [
    "#Q6) Given a Python list. Turn every item of a list into its square\n",
    "\n"
   ]
  },
  {
   "cell_type": "code",
   "execution_count": 11,
   "metadata": {},
   "outputs": [
    {
     "name": "stdout",
     "output_type": "stream",
     "text": [
      "square_list:  [4, 9, 16, 25]\n"
     ]
    }
   ],
   "source": [
    "list1 = [2, 3, 4, 5]\n",
    "sqrdlist = []\n",
    "for i in list1:   \n",
    "    sqrdlist.append(i**2)\n",
    "print(\"square_list: \", sqrdlist)\n",
    "        \n",
    "        \n",
    "        "
   ]
  },
  {
   "cell_type": "code",
   "execution_count": 12,
   "metadata": {},
   "outputs": [
    {
     "name": "stdout",
     "output_type": "stream",
     "text": [
      "[5, 10, 15, 200, 25, 50, 200]\n"
     ]
    }
   ],
   "source": [
    "#Q7) Given a Python list, find value 20 in the list, and if it is present, \n",
    "#replace it with 200.\n",
    "list_py = [5, 10, 15, 20, 25, 50, 20]\n",
    "for value in list_py:\n",
    "    if value == 20:\n",
    "        index = list_py.index(value)\n",
    "        list_py[index] = 200\n",
    "print(list_py)\n",
    "   \n",
    "    \n",
    "\n"
   ]
  },
  {
   "cell_type": "code",
   "execution_count": 13,
   "metadata": {},
   "outputs": [],
   "source": [
    "#Q8) Given a Python list you should be able to display Python list in the following order\n",
    "\n",
    "#List1 = ['e', 'a', 'u', 'o', 'i']\n",
    "#expected output = ['a', 'e', 'i', 'o', 'u']"
   ]
  },
  {
   "cell_type": "code",
   "execution_count": 14,
   "metadata": {},
   "outputs": [
    {
     "name": "stdout",
     "output_type": "stream",
     "text": [
      "['a', 'e', 'i', 'o', 'u']\n"
     ]
    }
   ],
   "source": [
    "vowel = ['e', 'a', 'u', 'o', 'i']\n",
    "vowel.sort()\n",
    "print(vowel)\n"
   ]
  },
  {
   "cell_type": "code",
   "execution_count": null,
   "metadata": {},
   "outputs": [],
   "source": []
  }
 ],
 "metadata": {
  "kernelspec": {
   "display_name": "Python 3",
   "language": "python",
   "name": "python3"
  },
  "language_info": {
   "codemirror_mode": {
    "name": "ipython",
    "version": 3
   },
   "file_extension": ".py",
   "mimetype": "text/x-python",
   "name": "python",
   "nbconvert_exporter": "python",
   "pygments_lexer": "ipython3",
   "version": "3.7.4"
  }
 },
 "nbformat": 4,
 "nbformat_minor": 2
}
