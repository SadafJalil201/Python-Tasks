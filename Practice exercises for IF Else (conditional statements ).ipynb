{
 "cells": [
  {
   "cell_type": "markdown",
   "metadata": {},
   "source": [
    "# Exercise # 1 :\n",
    "Take two int values from user and print greatest among them."
   ]
  },
  {
   "cell_type": "code",
   "execution_count": 8,
   "metadata": {},
   "outputs": [
    {
     "name": "stdout",
     "output_type": "stream",
     "text": [
      "Enter a number: 7\n",
      "Enter a number: 4\n",
      "7 is the greatest number.\n"
     ]
    }
   ],
   "source": [
    "val_1st = int(input(\"Enter a number: \"))\n",
    "val_2nd = int(input(\"Enter a number: \"))\n",
    "if val_1st>val_2nd:\n",
    "    print(f\"{val_1st} is the greatest number.\")\n",
    "else:\n",
    "    print(f\"{val_2nd} \"\"is the greatest number.\")"
   ]
  },
  {
   "cell_type": "markdown",
   "metadata": {},
   "source": [
    "# Exercise # 2:\n",
    "Take input of age of 3 people by user and determine oldest and youngest among them."
   ]
  },
  {
   "cell_type": "code",
   "execution_count": 2,
   "metadata": {},
   "outputs": [
    {
     "name": "stdout",
     "output_type": "stream",
     "text": [
      "Enter your age: 6\n",
      "Enter your age: 6\n",
      "Enter your age: 6\n",
      "6 is the oldest among them.\n",
      "6 is the youngest among them.\n"
     ]
    }
   ],
   "source": [
    "age_1st = int(input(\"Enter your age: \"))\n",
    "age_2nd = int(input(\"Enter your age: \"))\n",
    "age_3rd = int(input(\"Enter your age: \"))\n",
    "if age_1st>age_2nd and age_1st>age_3rd:\n",
    "    print(f\"{age_1st} is the oldest among them.\")\n",
    "else:\n",
    "    if age_2nd>age_1st and age_2nd>age_3rd:\n",
    "        print(f\"{age_2nd} is the oldest among them.\")\n",
    "    else:\n",
    "        print(f\"{age_3rd} is the oldest among them.\")\n",
    "if age_1st<age_2nd and age_1st<age_3rd:\n",
    "    print(f\"{age_1st} is the youngest among them.\")\n",
    "else:\n",
    "    if age_2nd<age_1st and age_2nd<age_3rd:\n",
    "        print(f\"{age_2nd} is the youngest among them.\")\n",
    "    else:\n",
    "        print(f\"{age_3rd} is the youngest among them.\")\n",
    "   \n",
    "    "
   ]
  },
  {
   "cell_type": "markdown",
   "metadata": {},
   "source": [
    "# Exercise # 3:\n",
    "Take values of length and breadth of a rectangle from user and check if it is square or not."
   ]
  },
  {
   "cell_type": "code",
   "execution_count": 10,
   "metadata": {},
   "outputs": [
    {
     "name": "stdout",
     "output_type": "stream",
     "text": [
      "Enter length: 5\n",
      "Enter breadth: 5\n",
      "It is square in shape.\n"
     ]
    }
   ],
   "source": [
    "length = int(input(\"Enter length: \"))\n",
    "breadth = int(input(\"Enter breadth: \"))\n",
    "if length == breadth:\n",
    "    print(\"It is square in shape.\")\n",
    "else:\n",
    "    print(\"It is rectangle in shape\")"
   ]
  },
  {
   "cell_type": "markdown",
   "metadata": {},
   "source": [
    "# Exercise # 4:\n",
    "A shop will give discount of 10% if the cost of purchased quantity is more than 1000.\n",
    "Ask user for quantity\n",
    "Suppose, one unit will cost 100.\n",
    "Judge and print total cost for user.\n"
   ]
  },
  {
   "cell_type": "code",
   "execution_count": 15,
   "metadata": {},
   "outputs": [
    {
     "name": "stdout",
     "output_type": "stream",
     "text": [
      "Enter quantities: 2000\n",
      "Total cost is  180000.0\n"
     ]
    }
   ],
   "source": [
    "user_inp = int(input(\"Enter quantities: \"))\n",
    "if user_inp>1000:\n",
    "    amount = user_inp*100\n",
    "    total = amount*90/100\n",
    "    print(\"Total cost is \", total)\n",
    "else:\n",
    "    print(\"Important Note: A shop will give discount of 10% if the cost of purchased quantity is more than 1000.\")"
   ]
  },
  {
   "cell_type": "markdown",
   "metadata": {},
   "source": [
    "# Exercise # 5:\n",
    "A company decided to give bonus of 5% to employee if his/her year of service is more than 5 years.\n",
    "Ask user for their salary and year of service and print the net bonus amount.\n",
    "\n"
   ]
  },
  {
   "cell_type": "code",
   "execution_count": 1,
   "metadata": {},
   "outputs": [
    {
     "name": "stdout",
     "output_type": "stream",
     "text": [
      "Enter your year of service: 6\n",
      "Enter your salary: 10000\n",
      "Net bonus amount :  10500.0\n"
     ]
    }
   ],
   "source": [
    "yearOFservice = int(input(\"Enter your year of service: \"))\n",
    "salary = int(input(\"Enter your salary: \"))\n",
    "if yearOFservice > 5:\n",
    "    bonus = salary*5/100\n",
    "    net_bonus_amount = salary+bonus\n",
    "    print(\"Net bonus amount : \", net_bonus_amount)\n",
    "else:\n",
    "    print(\"Important Note: A company decided to give bonus of 5% to employee if his/her year of service is more than 5 years.\")"
   ]
  },
  {
   "cell_type": "markdown",
   "metadata": {},
   "source": [
    "# Exercise # 6:\n",
    "A school has following rules for grading system:\n",
    "\n",
    "a. Below 25 - F\n",
    "\n",
    "b. 25 to 45 - E\n",
    "\n",
    "c. 45 to 50 - D\n",
    "\n",
    "d. 50 to 60 - C\n",
    "\n",
    "e. 60 to 80 - B\n",
    "\n",
    "f. Above 80 - A\n",
    "\n",
    "Ask user to enter marks and print the corresponding grade."
   ]
  },
  {
   "cell_type": "code",
   "execution_count": 12,
   "metadata": {},
   "outputs": [
    {
     "name": "stdout",
     "output_type": "stream",
     "text": [
      " Enter Obtain marks: 125\n",
      " Enter Total marks: 500\n",
      "your Percentage is 25.0\n",
      "Satisfactory! you got E Grade.\n"
     ]
    }
   ],
   "source": [
    "Obtain_marks =  int(input(\" Enter Obtain marks: \"))\n",
    "total_marks = int(input(\" Enter Total marks: \"))\n",
    "per = Obtain_marks/total_marks*100\n",
    "print(\"your Percentage is\", per)\n",
    "if per >=80:\n",
    "    print(\"Congratulation! you got A Grade.\")\n",
    "elif per<80 and per >=60:\n",
    "    print(\"Excellent! you got B Grade.\")\n",
    "elif per<60 and per >=50:\n",
    "    print(\"Good! you got C Grade.\")\n",
    "elif per<50 and per >=45:\n",
    "    print(\"Average! you got D Grade.\")\n",
    "elif per<45 and per >=25:\n",
    "    print(\"Satisfactory! you got E Grade.\")\n",
    "else: \n",
    "    print(\"Failure! you got F Grade.\")"
   ]
  },
  {
   "cell_type": "markdown",
   "metadata": {},
   "source": [
    "# Exercise # 7:\n",
    "Write a program to print absolute vlaue of a number entered by user.\n",
    "\n",
    "E.g.-\n",
    "\n",
    "INPUT: 1    =>>>>    OUTPUT: 1\n",
    "\n",
    "INPUT: -1   =>>>>     OUTPUT: 1\n"
   ]
  },
  {
   "cell_type": "code",
   "execution_count": 19,
   "metadata": {},
   "outputs": [
    {
     "name": "stdout",
     "output_type": "stream",
     "text": [
      "Enter a value:-4.567\n",
      "Absolute value of  -4.567 is 4.567\n"
     ]
    }
   ],
   "source": [
    "num = float(input(\"Enter a value:\"))\n",
    "abs_value= abs(num)\n",
    "print(\"Absolute value of \",num ,\"is\" ,abs_value)"
   ]
  },
  {
   "cell_type": "markdown",
   "metadata": {},
   "source": [
    "# Exercise # 8:\n",
    "A student will not be allowed to sit in exam if his/her attendence is less than 75%.\n",
    "Take following input from user\n",
    "Number of classes held\n",
    "Number of classes attended.\n",
    "And print\n",
    "percentage of class attended\n",
    "Is student is allowed to sit in exam or not."
   ]
  },
  {
   "cell_type": "code",
   "execution_count": 4,
   "metadata": {},
   "outputs": [
    {
     "name": "stdout",
     "output_type": "stream",
     "text": [
      "Enter Number of classes held:  200\n",
      "Enter Number of classes attended:  149\n",
      "Your percentage of class attended:  74.5\n",
      "Sorry! you are not allowed to sit in exam\n"
     ]
    }
   ],
   "source": [
    "Total_days = int(input(\"Enter Number of classes held:  \"))\n",
    "Attended_days = int(input(\"Enter Number of classes attended:  \"))\n",
    "Attendance_per = Attended_days/Total_days*100\n",
    "print(\"Your percentage of class attended: \", Attendance_per)\n",
    "if Attendance_per>=75:\n",
    "    print(\"you are allowed to sit in exam.\")\n",
    "else:\n",
    "    print(\"Sorry! you are not allowed to sit in exam\")\n"
   ]
  },
  {
   "cell_type": "markdown",
   "metadata": {},
   "source": [
    "# Exercise # 9:\n",
    "Modify the above question to allow student to sit if he/she has medical cause. Ask user if he/she has medical cause or not ( 'Y' or 'N' ) and print accordingly."
   ]
  },
  {
   "cell_type": "code",
   "execution_count": 1,
   "metadata": {},
   "outputs": [
    {
     "name": "stdout",
     "output_type": "stream",
     "text": [
      "Do you have any medical cause? Y/N:y\n",
      "Sorry! you are not allowed to sit in exam.\n"
     ]
    }
   ],
   "source": [
    "q = str(input(\"Do you have any medical cause? Y/N:\"))\n",
    "if q == \"Y\" or q==\"y\":\n",
    "    print(\"Sorry! you are not allowed to sit in exam.\")\n",
    "else:\n",
    "    print(\"you are allowed to sit in exam.\")\n"
   ]
  },
  {
   "cell_type": "code",
   "execution_count": null,
   "metadata": {},
   "outputs": [],
   "source": []
  },
  {
   "cell_type": "code",
   "execution_count": null,
   "metadata": {},
   "outputs": [],
   "source": []
  }
 ],
 "metadata": {
  "kernelspec": {
   "display_name": "Python 3",
   "language": "python",
   "name": "python3"
  },
  "language_info": {
   "codemirror_mode": {
    "name": "ipython",
    "version": 3
   },
   "file_extension": ".py",
   "mimetype": "text/x-python",
   "name": "python",
   "nbconvert_exporter": "python",
   "pygments_lexer": "ipython3",
   "version": "3.7.4"
  }
 },
 "nbformat": 4,
 "nbformat_minor": 4
}
